{
 "cells": [
  {
   "cell_type": "code",
   "execution_count": 1,
   "id": "89798137",
   "metadata": {},
   "outputs": [
    {
     "data": {
      "application/javascript": [
       "\n",
       "try {\n",
       "require(['notebook/js/codecell'], function(codecell) {\n",
       "  codecell.CodeCell.options_default.highlight_modes[\n",
       "      'magic_text/x-csrc'] = {'reg':[/^%%microblaze/]};\n",
       "  Jupyter.notebook.events.one('kernel_ready.Kernel', function(){\n",
       "      Jupyter.notebook.get_cells().map(function(cell){\n",
       "          if (cell.cell_type == 'code'){ cell.auto_highlight(); } }) ;\n",
       "  });\n",
       "});\n",
       "} catch (e) {};\n"
      ]
     },
     "metadata": {},
     "output_type": "display_data"
    },
    {
     "data": {
      "application/javascript": [
       "\n",
       "try {\n",
       "require(['notebook/js/codecell'], function(codecell) {\n",
       "  codecell.CodeCell.options_default.highlight_modes[\n",
       "      'magic_text/x-csrc'] = {'reg':[/^%%pybind11/]};\n",
       "  Jupyter.notebook.events.one('kernel_ready.Kernel', function(){\n",
       "      Jupyter.notebook.get_cells().map(function(cell){\n",
       "          if (cell.cell_type == 'code'){ cell.auto_highlight(); } }) ;\n",
       "  });\n",
       "});\n",
       "} catch (e) {};\n"
      ]
     },
     "metadata": {},
     "output_type": "display_data"
    }
   ],
   "source": [
    "from pynq import Overlay, allocate, MMIO, Bitstream\n",
    "from pynq import GPIO"
   ]
  },
  {
   "cell_type": "code",
   "execution_count": 2,
   "id": "7106a0f2",
   "metadata": {},
   "outputs": [],
   "source": [
    "ol = Overlay('pr_full.bit')"
   ]
  },
  {
   "cell_type": "code",
   "execution_count": 3,
   "id": "6ee7897a",
   "metadata": {},
   "outputs": [],
   "source": [
    "decopule = GPIO(GPIO.get_gpio_pin(0), 'out')\n",
    "decopule_status = GPIO(GPIO.get_gpio_pin(1), 'in')"
   ]
  },
  {
   "cell_type": "code",
   "execution_count": 12,
   "id": "c683238c",
   "metadata": {},
   "outputs": [
    {
     "name": "stdout",
     "output_type": "stream",
     "text": [
      "Detach PR section. 1\n"
     ]
    }
   ],
   "source": [
    "decopule.write(1)\n",
    "print(f'Detach PR section. {decopule_status.read()}')"
   ]
  },
  {
   "cell_type": "code",
   "execution_count": 13,
   "id": "b8babe71",
   "metadata": {},
   "outputs": [],
   "source": [
    "# add_pb = Bitstream('pr_sub_prblk.bit', None, True)\n",
    "add_pb = Bitstream('pr_add_prblk.bit', None, True)\n",
    "add_pb.download()"
   ]
  },
  {
   "cell_type": "code",
   "execution_count": 14,
   "id": "d2717b74",
   "metadata": {},
   "outputs": [
    {
     "name": "stdout",
     "output_type": "stream",
     "text": [
      "Detach PR section. 0\n"
     ]
    }
   ],
   "source": [
    "decopule.write(0)\n",
    "print(f'Detach PR section. {decopule_status.read()}')"
   ]
  },
  {
   "cell_type": "code",
   "execution_count": 15,
   "id": "40dfc3bc",
   "metadata": {},
   "outputs": [],
   "source": [
    "import numpy as np\n",
    "\n",
    "alu_data = allocate(shape=(2,),dtype=np.int32)\n",
    "alu_res = allocate(shape=(1,),dtype=np.int32)\n",
    "alu_data[0] = 17\n",
    "alu_data[1] = 16\n",
    "alu_data.flush()"
   ]
  },
  {
   "cell_type": "code",
   "execution_count": 16,
   "id": "87cd3a16",
   "metadata": {},
   "outputs": [],
   "source": [
    "dma_send = ol.axi_dma_0.sendchannel\n",
    "dma_recv = ol.axi_dma_0.recvchannel"
   ]
  },
  {
   "cell_type": "code",
   "execution_count": 17,
   "id": "fcb7dea7",
   "metadata": {},
   "outputs": [],
   "source": [
    "dma_recv.transfer(alu_res)\n",
    "dma_send.transfer(alu_data)\n",
    "dma_send.wait()\n",
    "dma_recv.wait()"
   ]
  },
  {
   "cell_type": "code",
   "execution_count": 18,
   "id": "8b53d898",
   "metadata": {},
   "outputs": [
    {
     "name": "stdout",
     "output_type": "stream",
     "text": [
      "[17 16]\n",
      "[33]\n"
     ]
    }
   ],
   "source": [
    "print(alu_data)\n",
    "print(alu_res)"
   ]
  },
  {
   "cell_type": "code",
   "execution_count": null,
   "id": "b6a8de3c",
   "metadata": {},
   "outputs": [],
   "source": []
  }
 ],
 "metadata": {
  "kernelspec": {
   "display_name": "Python 3",
   "language": "python",
   "name": "python3"
  },
  "language_info": {
   "codemirror_mode": {
    "name": "ipython",
    "version": 3
   },
   "file_extension": ".py",
   "mimetype": "text/x-python",
   "name": "python",
   "nbconvert_exporter": "python",
   "pygments_lexer": "ipython3",
   "version": "3.8.2"
  }
 },
 "nbformat": 4,
 "nbformat_minor": 5
}
